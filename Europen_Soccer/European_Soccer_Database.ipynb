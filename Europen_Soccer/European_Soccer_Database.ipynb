{
  "nbformat": 4,
  "nbformat_minor": 0,
  "metadata": {
    "colab": {
      "name": "European Soccer Database ",
      "provenance": [],
      "collapsed_sections": [],
      "authorship_tag": "ABX9TyPyQ8y8gQMfa5jVYaKs3++v",
      "include_colab_link": true
    },
    "kernelspec": {
      "name": "python3",
      "display_name": "Python 3"
    },
    "language_info": {
      "name": "python"
    }
  },
  "cells": [
    {
      "cell_type": "markdown",
      "metadata": {
        "id": "view-in-github",
        "colab_type": "text"
      },
      "source": [
        "<a href=\"https://colab.research.google.com/github/doo52oh/KaggleStudy/blob/master/Europen_Soccer/European_Soccer_Database.ipynb\" target=\"_parent\"><img src=\"https://colab.research.google.com/assets/colab-badge.svg\" alt=\"Open In Colab\"/></a>"
      ]
    },
    {
      "cell_type": "markdown",
      "metadata": {
        "id": "i-C3Qx49iIik"
      },
      "source": [
        "# European Soccer Database\n",
        "\n",
        "##### 데이터 출처: https://www.kaggle.com/hugomathien/soccer\n",
        "\n",
        "- database.sqlite 데이터베이스를 사용\n",
        " \n",
        "- 데이터 베이스 내 총 7개의 Table 사용  \n",
        "  * Country: 국가 정보  \n",
        "  * League: 리그 정보   \n",
        "  * Match: 경기 정보 (주 데이터셋)  \n",
        "  * Player: 플레이어 정보  \n",
        "  * Player_Attributes: 플레이어의 특성  \n",
        "  * Team: 팀 정보  \n",
        "  * Team_Attributes: 팀의 특성  "
      ]
    },
    {
      "cell_type": "markdown",
      "metadata": {
        "id": "I-nCWkd8i7u4"
      },
      "source": [
        "### Import Data"
      ]
    },
    {
      "cell_type": "code",
      "metadata": {
        "id": "sx3VDeOGhekL"
      },
      "source": [
        "import pandas as pd\n",
        "import numpy as np\n",
        "import matplotlib.pyplot as plt\n",
        "import seaborn as sns\n",
        "\n",
        "import sqlite3\n",
        "\n",
        "import os"
      ],
      "execution_count": 4,
      "outputs": []
    },
    {
      "cell_type": "code",
      "metadata": {
        "id": "ro9hO714jCWJ"
      },
      "source": [
        "# os.environ을 이용하여 Kaggle API Username, Key 세팅\n",
        "\n",
        "os.environ['KAGGLE_USERNAME'] = ''\n",
        "os.environ['KAGGLE_KEY'] = ''"
      ],
      "execution_count": 2,
      "outputs": []
    },
    {
      "cell_type": "code",
      "metadata": {
        "colab": {
          "base_uri": "https://localhost:8080/"
        },
        "id": "dH8lMHYfjExM",
        "outputId": "26ba097d-ea6d-49ab-b84d-ee1b8c80d789"
      },
      "source": [
        "# aggle API를 이용하여 데이터셋 다운로드하기 (!kaggle ~)\n",
        "\n",
        "!rm *.*\n",
        "!kaggle datasets download -d hugomathien/soccer\n",
        "!unzip '*.zip'"
      ],
      "execution_count": 3,
      "outputs": [
        {
          "output_type": "stream",
          "text": [
            "rm: cannot remove '*.*': No such file or directory\n",
            "Downloading soccer.zip to /content\n",
            " 49% 16.0M/32.7M [00:00<00:00, 30.3MB/s]\n",
            "100% 32.7M/32.7M [00:00<00:00, 73.5MB/s]\n",
            "Archive:  soccer.zip\n",
            "  inflating: database.sqlite         \n"
          ],
          "name": "stdout"
        }
      ]
    },
    {
      "cell_type": "code",
      "metadata": {
        "id": "GqXnTAu5jKcr"
      },
      "source": [
        "# sqlite3.connect()와 pd.read_sql_query()로 csv파일 읽어들이기\n",
        "conn = sqlite3.connect('database.sqlite')\n",
        "df_country = pd.read_sql_query('SELECT * FROM Country', conn)\n",
        "df_league = pd.read_sql_query('SELECT * FROM League', conn)\n",
        "df_match = pd.read_sql_query('SELECT * FROM Match', conn)\n",
        "df_player = pd.read_sql_query('SELECT * FROM Player', conn)\n",
        "df_player_att = pd.read_sql_query('SELECT * FROM Player_Attributes', conn)\n",
        "df_team = pd.read_sql_query('SELECT * FROM Team', conn)\n",
        "df_team_att = pd.read_sql_query('SELECT * FROM Team_Attributes', conn)"
      ],
      "execution_count": 5,
      "outputs": []
    },
    {
      "cell_type": "code",
      "metadata": {
        "colab": {
          "base_uri": "https://localhost:8080/"
        },
        "id": "Earx17FOjQpd",
        "outputId": "1dc6e0da-1a8b-40b7-c0e4-1169711d0325"
      },
      "source": [
        "df_country.shape, df_league.shape, df_match.shape, df_player.shape, df_player_att.shape, df_team.shape, df_team_att.shape"
      ],
      "execution_count": 6,
      "outputs": [
        {
          "output_type": "execute_result",
          "data": {
            "text/plain": [
              "((11, 2),\n",
              " (11, 3),\n",
              " (25979, 115),\n",
              " (11060, 7),\n",
              " (183978, 42),\n",
              " (299, 5),\n",
              " (1458, 25))"
            ]
          },
          "metadata": {
            "tags": []
          },
          "execution_count": 6
        }
      ]
    },
    {
      "cell_type": "code",
      "metadata": {
        "id": "oTq05VfTjU_k"
      },
      "source": [
        ""
      ],
      "execution_count": null,
      "outputs": []
    }
  ]
}