{
  "nbformat": 4,
  "nbformat_minor": 0,
  "metadata": {
    "colab": {
      "name": "BikeSharingDemand.ipynb",
      "provenance": [],
      "collapsed_sections": [],
      "authorship_tag": "ABX9TyPM22upOQipHhv6OsOiudHj",
      "include_colab_link": true
    },
    "kernelspec": {
      "display_name": "Python 3",
      "name": "python3"
    }
  },
  "cells": [
    {
      "cell_type": "markdown",
      "metadata": {
        "id": "view-in-github",
        "colab_type": "text"
      },
      "source": [
        "<a href=\"https://colab.research.google.com/github/doo52oh/KaggleStudy/blob/master/Bike_Sharing_Demand/BikeSharingDemand.ipynb\" target=\"_parent\"><img src=\"https://colab.research.google.com/assets/colab-badge.svg\" alt=\"Open In Colab\"/></a>"
      ]
    },
    {
      "cell_type": "markdown",
      "metadata": {
        "id": "UXr2qEE0xypT"
      },
      "source": [
        "# Predict Bike Sharing Demand \n",
        "\n",
        "## Data Fields¶\n",
        "  datetime - hourly date + timestamp  \n",
        "  season - 1 = spring, 2 = summer, 3 = fall, 4 = winter  \n",
        "  holiday - whether the day is considered a holiday  \n",
        "  workingday - whether the day is neither a weekend nor holiday  \n",
        "  weather  \n",
        "\n",
        "1.   Clear, Few clouds, Partly cloudy, Partly cloudy  \n",
        "2.   Mist + Cloudy, Mist + Broken clouds, Mist + Few clouds, Mist\n",
        "3.  Light Snow, Light Rain + Thunderstorm + Scattered clouds, Light Rain + Scattered clouds\n",
        "4. Heavy Rain + Ice Pallets + Thunderstorm + Mist, Snow + Fog  \n",
        "  \n",
        "  \n",
        "  temp - temperature in Celsius  \n",
        "  atemp - \"feels like\" temperature in Celsius  \n",
        "  humidity - relative humidity  \n",
        "  windspeed - wind speed  \n",
        "  casual - number of non-registered user rentals initiated  \n",
        "  registered - number of registered user rentals initiated  \n",
        "  count - number of total rentals  \n",
        "\n",
        "\n"
      ]
    },
    {
      "cell_type": "code",
      "metadata": {
        "id": "0aojw0uHaWcf"
      },
      "source": [
        "import pandas as pd\n",
        "import numpy as np\n",
        "import matplotlib.pyplot as plt\n",
        "%matplotlib inline\n",
        "import seaborn as sns\n",
        "\n",
        "import os"
      ],
      "execution_count": null,
      "outputs": []
    },
    {
      "cell_type": "code",
      "metadata": {
        "id": "wHcts2_dtnNI"
      },
      "source": [
        "# os.environ을 이용하여 Kaggle API Username, Key 세팅하기\n",
        "\n",
        "os.environ['KAGGLE_USERNAME'] = ''\n",
        "os.environ['KAGGLE_KEY'] = ''"
      ],
      "execution_count": null,
      "outputs": []
    },
    {
      "cell_type": "code",
      "metadata": {
        "colab": {
          "base_uri": "https://localhost:8080/"
        },
        "id": "siYeFHXht_kj",
        "outputId": "e9b61f95-baa2-4503-acbc-9e9248955548"
      },
      "source": [
        "# Linux 명령어로 Kaggle API를 이용하여 데이터셋 다운로드하기 (!kaggle ~)\n",
        "# Linux 명령어로 압축 해제하기\n",
        "\n",
        "!rm *.*\n",
        "!kaggle competitions download -c bike-sharing-demand\n",
        "!unzip '*.zip'"
      ],
      "execution_count": null,
      "outputs": [
        {
          "output_type": "stream",
          "text": [
            "rm: cannot remove '*.*': No such file or directory\n",
            "Warning: Looks like you're using an outdated API Version, please consider updating (server 1.5.12 / client 1.5.4)\n",
            "Downloading train.csv to /content\n",
            "  0% 0.00/633k [00:00<?, ?B/s]\n",
            "100% 633k/633k [00:00<00:00, 42.1MB/s]\n",
            "Downloading test.csv to /content\n",
            "  0% 0.00/316k [00:00<?, ?B/s]\n",
            "100% 316k/316k [00:00<00:00, 103MB/s]\n",
            "Downloading sampleSubmission.csv to /content\n",
            "  0% 0.00/140k [00:00<?, ?B/s]\n",
            "100% 140k/140k [00:00<00:00, 45.4MB/s]\n",
            "unzip:  cannot find or open *.zip, *.zip.zip or *.zip.ZIP.\n",
            "\n",
            "No zipfiles found.\n"
          ],
          "name": "stdout"
        }
      ]
    },
    {
      "cell_type": "code",
      "metadata": {
        "id": "VCmA_ng0uRuB"
      },
      "source": [
        "train = pd.read_csv('train.csv', parse_dates = ['datetime'])\n",
        "test  = pd.read_csv('test.csv' , parse_dates = ['datetime'])"
      ],
      "execution_count": null,
      "outputs": []
    },
    {
      "cell_type": "code",
      "metadata": {
        "colab": {
          "base_uri": "https://localhost:8080/",
          "height": 195
        },
        "id": "T8CZqV_qxQ5A",
        "outputId": "d380dcbe-fc04-4ed0-ca6f-808927ab5c9e"
      },
      "source": [
        "train.head()"
      ],
      "execution_count": null,
      "outputs": [
        {
          "output_type": "execute_result",
          "data": {
            "text/html": [
              "<div>\n",
              "<style scoped>\n",
              "    .dataframe tbody tr th:only-of-type {\n",
              "        vertical-align: middle;\n",
              "    }\n",
              "\n",
              "    .dataframe tbody tr th {\n",
              "        vertical-align: top;\n",
              "    }\n",
              "\n",
              "    .dataframe thead th {\n",
              "        text-align: right;\n",
              "    }\n",
              "</style>\n",
              "<table border=\"1\" class=\"dataframe\">\n",
              "  <thead>\n",
              "    <tr style=\"text-align: right;\">\n",
              "      <th></th>\n",
              "      <th>datetime</th>\n",
              "      <th>season</th>\n",
              "      <th>holiday</th>\n",
              "      <th>workingday</th>\n",
              "      <th>weather</th>\n",
              "      <th>temp</th>\n",
              "      <th>atemp</th>\n",
              "      <th>humidity</th>\n",
              "      <th>windspeed</th>\n",
              "      <th>casual</th>\n",
              "      <th>registered</th>\n",
              "      <th>count</th>\n",
              "    </tr>\n",
              "  </thead>\n",
              "  <tbody>\n",
              "    <tr>\n",
              "      <th>0</th>\n",
              "      <td>2011-01-01 00:00:00</td>\n",
              "      <td>1</td>\n",
              "      <td>0</td>\n",
              "      <td>0</td>\n",
              "      <td>1</td>\n",
              "      <td>9.84</td>\n",
              "      <td>14.395</td>\n",
              "      <td>81</td>\n",
              "      <td>0.0</td>\n",
              "      <td>3</td>\n",
              "      <td>13</td>\n",
              "      <td>16</td>\n",
              "    </tr>\n",
              "    <tr>\n",
              "      <th>1</th>\n",
              "      <td>2011-01-01 01:00:00</td>\n",
              "      <td>1</td>\n",
              "      <td>0</td>\n",
              "      <td>0</td>\n",
              "      <td>1</td>\n",
              "      <td>9.02</td>\n",
              "      <td>13.635</td>\n",
              "      <td>80</td>\n",
              "      <td>0.0</td>\n",
              "      <td>8</td>\n",
              "      <td>32</td>\n",
              "      <td>40</td>\n",
              "    </tr>\n",
              "    <tr>\n",
              "      <th>2</th>\n",
              "      <td>2011-01-01 02:00:00</td>\n",
              "      <td>1</td>\n",
              "      <td>0</td>\n",
              "      <td>0</td>\n",
              "      <td>1</td>\n",
              "      <td>9.02</td>\n",
              "      <td>13.635</td>\n",
              "      <td>80</td>\n",
              "      <td>0.0</td>\n",
              "      <td>5</td>\n",
              "      <td>27</td>\n",
              "      <td>32</td>\n",
              "    </tr>\n",
              "    <tr>\n",
              "      <th>3</th>\n",
              "      <td>2011-01-01 03:00:00</td>\n",
              "      <td>1</td>\n",
              "      <td>0</td>\n",
              "      <td>0</td>\n",
              "      <td>1</td>\n",
              "      <td>9.84</td>\n",
              "      <td>14.395</td>\n",
              "      <td>75</td>\n",
              "      <td>0.0</td>\n",
              "      <td>3</td>\n",
              "      <td>10</td>\n",
              "      <td>13</td>\n",
              "    </tr>\n",
              "    <tr>\n",
              "      <th>4</th>\n",
              "      <td>2011-01-01 04:00:00</td>\n",
              "      <td>1</td>\n",
              "      <td>0</td>\n",
              "      <td>0</td>\n",
              "      <td>1</td>\n",
              "      <td>9.84</td>\n",
              "      <td>14.395</td>\n",
              "      <td>75</td>\n",
              "      <td>0.0</td>\n",
              "      <td>0</td>\n",
              "      <td>1</td>\n",
              "      <td>1</td>\n",
              "    </tr>\n",
              "  </tbody>\n",
              "</table>\n",
              "</div>"
            ],
            "text/plain": [
              "             datetime  season  holiday  ...  casual  registered  count\n",
              "0 2011-01-01 00:00:00       1        0  ...       3          13     16\n",
              "1 2011-01-01 01:00:00       1        0  ...       8          32     40\n",
              "2 2011-01-01 02:00:00       1        0  ...       5          27     32\n",
              "3 2011-01-01 03:00:00       1        0  ...       3          10     13\n",
              "4 2011-01-01 04:00:00       1        0  ...       0           1      1\n",
              "\n",
              "[5 rows x 12 columns]"
            ]
          },
          "metadata": {
            "tags": []
          },
          "execution_count": 5
        }
      ]
    },
    {
      "cell_type": "code",
      "metadata": {
        "colab": {
          "base_uri": "https://localhost:8080/"
        },
        "id": "9At2gKGU3mwl",
        "outputId": "6f0ae2b2-2a8d-4a0a-9f25-a407025e8d1c"
      },
      "source": [
        "print(train.shape)\n",
        "train.dtypes"
      ],
      "execution_count": null,
      "outputs": [
        {
          "output_type": "stream",
          "text": [
            "(10886, 12)\n"
          ],
          "name": "stdout"
        },
        {
          "output_type": "execute_result",
          "data": {
            "text/plain": [
              "datetime      datetime64[ns]\n",
              "season                 int64\n",
              "holiday                int64\n",
              "workingday             int64\n",
              "weather                int64\n",
              "temp                 float64\n",
              "atemp                float64\n",
              "humidity               int64\n",
              "windspeed            float64\n",
              "casual                 int64\n",
              "registered             int64\n",
              "count                  int64\n",
              "dtype: object"
            ]
          },
          "metadata": {
            "tags": []
          },
          "execution_count": 6
        }
      ]
    },
    {
      "cell_type": "code",
      "metadata": {
        "colab": {
          "base_uri": "https://localhost:8080/",
          "height": 195
        },
        "id": "Vtdo9h-nxR9A",
        "outputId": "15771783-229e-4d2e-991f-b350d886ea06"
      },
      "source": [
        "test.head()"
      ],
      "execution_count": null,
      "outputs": [
        {
          "output_type": "execute_result",
          "data": {
            "text/html": [
              "<div>\n",
              "<style scoped>\n",
              "    .dataframe tbody tr th:only-of-type {\n",
              "        vertical-align: middle;\n",
              "    }\n",
              "\n",
              "    .dataframe tbody tr th {\n",
              "        vertical-align: top;\n",
              "    }\n",
              "\n",
              "    .dataframe thead th {\n",
              "        text-align: right;\n",
              "    }\n",
              "</style>\n",
              "<table border=\"1\" class=\"dataframe\">\n",
              "  <thead>\n",
              "    <tr style=\"text-align: right;\">\n",
              "      <th></th>\n",
              "      <th>datetime</th>\n",
              "      <th>season</th>\n",
              "      <th>holiday</th>\n",
              "      <th>workingday</th>\n",
              "      <th>weather</th>\n",
              "      <th>temp</th>\n",
              "      <th>atemp</th>\n",
              "      <th>humidity</th>\n",
              "      <th>windspeed</th>\n",
              "    </tr>\n",
              "  </thead>\n",
              "  <tbody>\n",
              "    <tr>\n",
              "      <th>0</th>\n",
              "      <td>2011-01-20 00:00:00</td>\n",
              "      <td>1</td>\n",
              "      <td>0</td>\n",
              "      <td>1</td>\n",
              "      <td>1</td>\n",
              "      <td>10.66</td>\n",
              "      <td>11.365</td>\n",
              "      <td>56</td>\n",
              "      <td>26.0027</td>\n",
              "    </tr>\n",
              "    <tr>\n",
              "      <th>1</th>\n",
              "      <td>2011-01-20 01:00:00</td>\n",
              "      <td>1</td>\n",
              "      <td>0</td>\n",
              "      <td>1</td>\n",
              "      <td>1</td>\n",
              "      <td>10.66</td>\n",
              "      <td>13.635</td>\n",
              "      <td>56</td>\n",
              "      <td>0.0000</td>\n",
              "    </tr>\n",
              "    <tr>\n",
              "      <th>2</th>\n",
              "      <td>2011-01-20 02:00:00</td>\n",
              "      <td>1</td>\n",
              "      <td>0</td>\n",
              "      <td>1</td>\n",
              "      <td>1</td>\n",
              "      <td>10.66</td>\n",
              "      <td>13.635</td>\n",
              "      <td>56</td>\n",
              "      <td>0.0000</td>\n",
              "    </tr>\n",
              "    <tr>\n",
              "      <th>3</th>\n",
              "      <td>2011-01-20 03:00:00</td>\n",
              "      <td>1</td>\n",
              "      <td>0</td>\n",
              "      <td>1</td>\n",
              "      <td>1</td>\n",
              "      <td>10.66</td>\n",
              "      <td>12.880</td>\n",
              "      <td>56</td>\n",
              "      <td>11.0014</td>\n",
              "    </tr>\n",
              "    <tr>\n",
              "      <th>4</th>\n",
              "      <td>2011-01-20 04:00:00</td>\n",
              "      <td>1</td>\n",
              "      <td>0</td>\n",
              "      <td>1</td>\n",
              "      <td>1</td>\n",
              "      <td>10.66</td>\n",
              "      <td>12.880</td>\n",
              "      <td>56</td>\n",
              "      <td>11.0014</td>\n",
              "    </tr>\n",
              "  </tbody>\n",
              "</table>\n",
              "</div>"
            ],
            "text/plain": [
              "             datetime  season  holiday  ...   atemp  humidity  windspeed\n",
              "0 2011-01-20 00:00:00       1        0  ...  11.365        56    26.0027\n",
              "1 2011-01-20 01:00:00       1        0  ...  13.635        56     0.0000\n",
              "2 2011-01-20 02:00:00       1        0  ...  13.635        56     0.0000\n",
              "3 2011-01-20 03:00:00       1        0  ...  12.880        56    11.0014\n",
              "4 2011-01-20 04:00:00       1        0  ...  12.880        56    11.0014\n",
              "\n",
              "[5 rows x 9 columns]"
            ]
          },
          "metadata": {
            "tags": []
          },
          "execution_count": 7
        }
      ]
    },
    {
      "cell_type": "code",
      "metadata": {
        "colab": {
          "base_uri": "https://localhost:8080/"
        },
        "id": "yLs_WIQ64WIh",
        "outputId": "d06a8cf1-6b3a-42a3-f7f8-3a14ffd3e3eb"
      },
      "source": [
        "print(test.shape)\n",
        "test.dtypes"
      ],
      "execution_count": null,
      "outputs": [
        {
          "output_type": "stream",
          "text": [
            "(6493, 9)\n"
          ],
          "name": "stdout"
        },
        {
          "output_type": "execute_result",
          "data": {
            "text/plain": [
              "datetime      datetime64[ns]\n",
              "season                 int64\n",
              "holiday                int64\n",
              "workingday             int64\n",
              "weather                int64\n",
              "temp                 float64\n",
              "atemp                float64\n",
              "humidity               int64\n",
              "windspeed            float64\n",
              "dtype: object"
            ]
          },
          "metadata": {
            "tags": []
          },
          "execution_count": 8
        }
      ]
    },
    {
      "cell_type": "code",
      "metadata": {
        "colab": {
          "base_uri": "https://localhost:8080/"
        },
        "id": "XNiC7-nAxS9Y",
        "outputId": "b065a230-0297-4695-d4b1-f2906c833ab1"
      },
      "source": [
        "train.isna().sum().sum()"
      ],
      "execution_count": null,
      "outputs": [
        {
          "output_type": "execute_result",
          "data": {
            "text/plain": [
              "0"
            ]
          },
          "metadata": {
            "tags": []
          },
          "execution_count": 9
        }
      ]
    },
    {
      "cell_type": "code",
      "metadata": {
        "colab": {
          "base_uri": "https://localhost:8080/"
        },
        "id": "cjiOGbrazMxm",
        "outputId": "29cb632c-4933-4332-a1fe-1af721a7bf3b"
      },
      "source": [
        "test.isna().sum().sum()"
      ],
      "execution_count": null,
      "outputs": [
        {
          "output_type": "execute_result",
          "data": {
            "text/plain": [
              "0"
            ]
          },
          "metadata": {
            "tags": []
          },
          "execution_count": 10
        }
      ]
    },
    {
      "cell_type": "markdown",
      "metadata": {
        "id": "CtvwffMP0Qgk"
      },
      "source": [
        "#### Preporcessing"
      ]
    },
    {
      "cell_type": "code",
      "metadata": {
        "id": "bQYyzrcezR36"
      },
      "source": [
        "train['year']  = train['datetime'].dt.year\n",
        "train['month'] = train['datetime'].dt.month\n",
        "train['day']   = train['datetime'].dt.day\n",
        "train['hour']  = train['datetime'].dt.hour\n",
        "train['min']   = train['datetime'].dt.minute\n",
        "train['sec']   = train['datetime'].dt.second\n",
        "train['dow']   = train['datetime'].dt.dayofweek"
      ],
      "execution_count": null,
      "outputs": []
    },
    {
      "cell_type": "code",
      "metadata": {
        "colab": {
          "base_uri": "https://localhost:8080/",
          "height": 195
        },
        "id": "T_lJ0iXt3efU",
        "outputId": "66c714e9-aa41-4b57-ecb8-3baf4d5621b5"
      },
      "source": [
        "train[['datetime','year','month','day','hour','min','sec','dow']].head()"
      ],
      "execution_count": null,
      "outputs": [
        {
          "output_type": "execute_result",
          "data": {
            "text/html": [
              "<div>\n",
              "<style scoped>\n",
              "    .dataframe tbody tr th:only-of-type {\n",
              "        vertical-align: middle;\n",
              "    }\n",
              "\n",
              "    .dataframe tbody tr th {\n",
              "        vertical-align: top;\n",
              "    }\n",
              "\n",
              "    .dataframe thead th {\n",
              "        text-align: right;\n",
              "    }\n",
              "</style>\n",
              "<table border=\"1\" class=\"dataframe\">\n",
              "  <thead>\n",
              "    <tr style=\"text-align: right;\">\n",
              "      <th></th>\n",
              "      <th>datetime</th>\n",
              "      <th>year</th>\n",
              "      <th>month</th>\n",
              "      <th>day</th>\n",
              "      <th>hour</th>\n",
              "      <th>min</th>\n",
              "      <th>sec</th>\n",
              "      <th>dow</th>\n",
              "    </tr>\n",
              "  </thead>\n",
              "  <tbody>\n",
              "    <tr>\n",
              "      <th>0</th>\n",
              "      <td>2011-01-01 00:00:00</td>\n",
              "      <td>2011</td>\n",
              "      <td>1</td>\n",
              "      <td>1</td>\n",
              "      <td>0</td>\n",
              "      <td>0</td>\n",
              "      <td>0</td>\n",
              "      <td>5</td>\n",
              "    </tr>\n",
              "    <tr>\n",
              "      <th>1</th>\n",
              "      <td>2011-01-01 01:00:00</td>\n",
              "      <td>2011</td>\n",
              "      <td>1</td>\n",
              "      <td>1</td>\n",
              "      <td>1</td>\n",
              "      <td>0</td>\n",
              "      <td>0</td>\n",
              "      <td>5</td>\n",
              "    </tr>\n",
              "    <tr>\n",
              "      <th>2</th>\n",
              "      <td>2011-01-01 02:00:00</td>\n",
              "      <td>2011</td>\n",
              "      <td>1</td>\n",
              "      <td>1</td>\n",
              "      <td>2</td>\n",
              "      <td>0</td>\n",
              "      <td>0</td>\n",
              "      <td>5</td>\n",
              "    </tr>\n",
              "    <tr>\n",
              "      <th>3</th>\n",
              "      <td>2011-01-01 03:00:00</td>\n",
              "      <td>2011</td>\n",
              "      <td>1</td>\n",
              "      <td>1</td>\n",
              "      <td>3</td>\n",
              "      <td>0</td>\n",
              "      <td>0</td>\n",
              "      <td>5</td>\n",
              "    </tr>\n",
              "    <tr>\n",
              "      <th>4</th>\n",
              "      <td>2011-01-01 04:00:00</td>\n",
              "      <td>2011</td>\n",
              "      <td>1</td>\n",
              "      <td>1</td>\n",
              "      <td>4</td>\n",
              "      <td>0</td>\n",
              "      <td>0</td>\n",
              "      <td>5</td>\n",
              "    </tr>\n",
              "  </tbody>\n",
              "</table>\n",
              "</div>"
            ],
            "text/plain": [
              "             datetime  year  month  day  hour  min  sec  dow\n",
              "0 2011-01-01 00:00:00  2011      1    1     0    0    0    5\n",
              "1 2011-01-01 01:00:00  2011      1    1     1    0    0    5\n",
              "2 2011-01-01 02:00:00  2011      1    1     2    0    0    5\n",
              "3 2011-01-01 03:00:00  2011      1    1     3    0    0    5\n",
              "4 2011-01-01 04:00:00  2011      1    1     4    0    0    5"
            ]
          },
          "metadata": {
            "tags": []
          },
          "execution_count": 12
        }
      ]
    },
    {
      "cell_type": "code",
      "metadata": {
        "colab": {
          "base_uri": "https://localhost:8080/"
        },
        "id": "-cEMS4Sc4olx",
        "outputId": "a4383964-1b99-43b5-888b-20e8cd03c2f5"
      },
      "source": [
        "max(train.year), max(train.month), max(train.day), max(train.hour), max(train['min']), max(train.sec)"
      ],
      "execution_count": null,
      "outputs": [
        {
          "output_type": "execute_result",
          "data": {
            "text/plain": [
              "(2012, 12, 19, 23, 0, 0)"
            ]
          },
          "metadata": {
            "tags": []
          },
          "execution_count": 13
        }
      ]
    },
    {
      "cell_type": "code",
      "metadata": {
        "id": "XCscZAxHxDjv"
      },
      "source": [
        "test['year']  = test['datetime'].dt.year\n",
        "test['month'] = test['datetime'].dt.month\n",
        "test['day']   = test['datetime'].dt.day\n",
        "test['hour']  = test['datetime'].dt.hour\n",
        "test['min']   = test['datetime'].dt.minute\n",
        "test['sec']   = test['datetime'].dt.second\n",
        "test['dow']   = test['datetime'].dt.dayofweek"
      ],
      "execution_count": null,
      "outputs": []
    },
    {
      "cell_type": "code",
      "metadata": {
        "id": "PCgHqfkv46lk"
      },
      "source": [
        "def day_of_week(day):\n",
        "  if   day == 0:\n",
        "    return 'Mon'\n",
        "  elif day == 1:\n",
        "    return 'Tue'\n",
        "  elif day == 2:\n",
        "    return 'Wed'\n",
        "  elif day == 3:\n",
        "    return 'Thur'\n",
        "  elif day == 4:\n",
        "    return 'Fri'\n",
        "  elif day == 5:\n",
        "    return 'Sat'\n",
        "  elif day == 6:\n",
        "    return 'Sun'\n",
        "  else:\n",
        "    return 'err'\n"
      ],
      "execution_count": null,
      "outputs": []
    },
    {
      "cell_type": "code",
      "metadata": {
        "colab": {
          "base_uri": "https://localhost:8080/",
          "height": 195
        },
        "id": "wseLz-YL555t",
        "outputId": "f01611f9-c064-4579-bd7f-e9557c35940b"
      },
      "source": [
        "train['dow_humanized'] = train['dow'].apply(day_of_week)\n",
        "train.head()"
      ],
      "execution_count": null,
      "outputs": [
        {
          "output_type": "execute_result",
          "data": {
            "text/html": [
              "<div>\n",
              "<style scoped>\n",
              "    .dataframe tbody tr th:only-of-type {\n",
              "        vertical-align: middle;\n",
              "    }\n",
              "\n",
              "    .dataframe tbody tr th {\n",
              "        vertical-align: top;\n",
              "    }\n",
              "\n",
              "    .dataframe thead th {\n",
              "        text-align: right;\n",
              "    }\n",
              "</style>\n",
              "<table border=\"1\" class=\"dataframe\">\n",
              "  <thead>\n",
              "    <tr style=\"text-align: right;\">\n",
              "      <th></th>\n",
              "      <th>datetime</th>\n",
              "      <th>season</th>\n",
              "      <th>holiday</th>\n",
              "      <th>workingday</th>\n",
              "      <th>weather</th>\n",
              "      <th>temp</th>\n",
              "      <th>atemp</th>\n",
              "      <th>humidity</th>\n",
              "      <th>windspeed</th>\n",
              "      <th>casual</th>\n",
              "      <th>registered</th>\n",
              "      <th>count</th>\n",
              "      <th>year</th>\n",
              "      <th>month</th>\n",
              "      <th>day</th>\n",
              "      <th>hour</th>\n",
              "      <th>min</th>\n",
              "      <th>sec</th>\n",
              "      <th>dow</th>\n",
              "      <th>dow_humanized</th>\n",
              "    </tr>\n",
              "  </thead>\n",
              "  <tbody>\n",
              "    <tr>\n",
              "      <th>0</th>\n",
              "      <td>2011-01-01 00:00:00</td>\n",
              "      <td>1</td>\n",
              "      <td>0</td>\n",
              "      <td>0</td>\n",
              "      <td>1</td>\n",
              "      <td>9.84</td>\n",
              "      <td>14.395</td>\n",
              "      <td>81</td>\n",
              "      <td>0.0</td>\n",
              "      <td>3</td>\n",
              "      <td>13</td>\n",
              "      <td>16</td>\n",
              "      <td>2011</td>\n",
              "      <td>1</td>\n",
              "      <td>1</td>\n",
              "      <td>0</td>\n",
              "      <td>0</td>\n",
              "      <td>0</td>\n",
              "      <td>5</td>\n",
              "      <td>Sat</td>\n",
              "    </tr>\n",
              "    <tr>\n",
              "      <th>1</th>\n",
              "      <td>2011-01-01 01:00:00</td>\n",
              "      <td>1</td>\n",
              "      <td>0</td>\n",
              "      <td>0</td>\n",
              "      <td>1</td>\n",
              "      <td>9.02</td>\n",
              "      <td>13.635</td>\n",
              "      <td>80</td>\n",
              "      <td>0.0</td>\n",
              "      <td>8</td>\n",
              "      <td>32</td>\n",
              "      <td>40</td>\n",
              "      <td>2011</td>\n",
              "      <td>1</td>\n",
              "      <td>1</td>\n",
              "      <td>1</td>\n",
              "      <td>0</td>\n",
              "      <td>0</td>\n",
              "      <td>5</td>\n",
              "      <td>Sat</td>\n",
              "    </tr>\n",
              "    <tr>\n",
              "      <th>2</th>\n",
              "      <td>2011-01-01 02:00:00</td>\n",
              "      <td>1</td>\n",
              "      <td>0</td>\n",
              "      <td>0</td>\n",
              "      <td>1</td>\n",
              "      <td>9.02</td>\n",
              "      <td>13.635</td>\n",
              "      <td>80</td>\n",
              "      <td>0.0</td>\n",
              "      <td>5</td>\n",
              "      <td>27</td>\n",
              "      <td>32</td>\n",
              "      <td>2011</td>\n",
              "      <td>1</td>\n",
              "      <td>1</td>\n",
              "      <td>2</td>\n",
              "      <td>0</td>\n",
              "      <td>0</td>\n",
              "      <td>5</td>\n",
              "      <td>Sat</td>\n",
              "    </tr>\n",
              "    <tr>\n",
              "      <th>3</th>\n",
              "      <td>2011-01-01 03:00:00</td>\n",
              "      <td>1</td>\n",
              "      <td>0</td>\n",
              "      <td>0</td>\n",
              "      <td>1</td>\n",
              "      <td>9.84</td>\n",
              "      <td>14.395</td>\n",
              "      <td>75</td>\n",
              "      <td>0.0</td>\n",
              "      <td>3</td>\n",
              "      <td>10</td>\n",
              "      <td>13</td>\n",
              "      <td>2011</td>\n",
              "      <td>1</td>\n",
              "      <td>1</td>\n",
              "      <td>3</td>\n",
              "      <td>0</td>\n",
              "      <td>0</td>\n",
              "      <td>5</td>\n",
              "      <td>Sat</td>\n",
              "    </tr>\n",
              "    <tr>\n",
              "      <th>4</th>\n",
              "      <td>2011-01-01 04:00:00</td>\n",
              "      <td>1</td>\n",
              "      <td>0</td>\n",
              "      <td>0</td>\n",
              "      <td>1</td>\n",
              "      <td>9.84</td>\n",
              "      <td>14.395</td>\n",
              "      <td>75</td>\n",
              "      <td>0.0</td>\n",
              "      <td>0</td>\n",
              "      <td>1</td>\n",
              "      <td>1</td>\n",
              "      <td>2011</td>\n",
              "      <td>1</td>\n",
              "      <td>1</td>\n",
              "      <td>4</td>\n",
              "      <td>0</td>\n",
              "      <td>0</td>\n",
              "      <td>5</td>\n",
              "      <td>Sat</td>\n",
              "    </tr>\n",
              "  </tbody>\n",
              "</table>\n",
              "</div>"
            ],
            "text/plain": [
              "             datetime  season  holiday  workingday  ...  min  sec  dow  dow_humanized\n",
              "0 2011-01-01 00:00:00       1        0           0  ...    0    0    5            Sat\n",
              "1 2011-01-01 01:00:00       1        0           0  ...    0    0    5            Sat\n",
              "2 2011-01-01 02:00:00       1        0           0  ...    0    0    5            Sat\n",
              "3 2011-01-01 03:00:00       1        0           0  ...    0    0    5            Sat\n",
              "4 2011-01-01 04:00:00       1        0           0  ...    0    0    5            Sat\n",
              "\n",
              "[5 rows x 20 columns]"
            ]
          },
          "metadata": {
            "tags": []
          },
          "execution_count": 16
        }
      ]
    },
    {
      "cell_type": "code",
      "metadata": {
        "colab": {
          "base_uri": "https://localhost:8080/"
        },
        "id": "OXdPL6F86M2X",
        "outputId": "2e080ed2-2a6e-4204-d6f3-498a27aa3d80"
      },
      "source": [
        "train.dow_humanized.value_counts()"
      ],
      "execution_count": null,
      "outputs": [
        {
          "output_type": "execute_result",
          "data": {
            "text/plain": [
              "Sat     1584\n",
              "Sun     1579\n",
              "Thur    1553\n",
              "Wed     1551\n",
              "Mon     1551\n",
              "Tue     1539\n",
              "Fri     1529\n",
              "Name: dow_humanized, dtype: int64"
            ]
          },
          "metadata": {
            "tags": []
          },
          "execution_count": 17
        }
      ]
    },
    {
      "cell_type": "code",
      "metadata": {
        "colab": {
          "base_uri": "https://localhost:8080/",
          "height": 195
        },
        "id": "yuwwzFsbxR2u",
        "outputId": "376eaa70-26a0-453d-dd79-e11f21c0d3f2"
      },
      "source": [
        "test['dow_humanized'] = test['dow'].apply(day_of_week)\n",
        "test.head()"
      ],
      "execution_count": null,
      "outputs": [
        {
          "output_type": "execute_result",
          "data": {
            "text/html": [
              "<div>\n",
              "<style scoped>\n",
              "    .dataframe tbody tr th:only-of-type {\n",
              "        vertical-align: middle;\n",
              "    }\n",
              "\n",
              "    .dataframe tbody tr th {\n",
              "        vertical-align: top;\n",
              "    }\n",
              "\n",
              "    .dataframe thead th {\n",
              "        text-align: right;\n",
              "    }\n",
              "</style>\n",
              "<table border=\"1\" class=\"dataframe\">\n",
              "  <thead>\n",
              "    <tr style=\"text-align: right;\">\n",
              "      <th></th>\n",
              "      <th>datetime</th>\n",
              "      <th>season</th>\n",
              "      <th>holiday</th>\n",
              "      <th>workingday</th>\n",
              "      <th>weather</th>\n",
              "      <th>temp</th>\n",
              "      <th>atemp</th>\n",
              "      <th>humidity</th>\n",
              "      <th>windspeed</th>\n",
              "      <th>year</th>\n",
              "      <th>month</th>\n",
              "      <th>day</th>\n",
              "      <th>hour</th>\n",
              "      <th>min</th>\n",
              "      <th>sec</th>\n",
              "      <th>dow</th>\n",
              "      <th>dow_humanized</th>\n",
              "    </tr>\n",
              "  </thead>\n",
              "  <tbody>\n",
              "    <tr>\n",
              "      <th>0</th>\n",
              "      <td>2011-01-20 00:00:00</td>\n",
              "      <td>1</td>\n",
              "      <td>0</td>\n",
              "      <td>1</td>\n",
              "      <td>1</td>\n",
              "      <td>10.66</td>\n",
              "      <td>11.365</td>\n",
              "      <td>56</td>\n",
              "      <td>26.0027</td>\n",
              "      <td>2011</td>\n",
              "      <td>1</td>\n",
              "      <td>20</td>\n",
              "      <td>0</td>\n",
              "      <td>0</td>\n",
              "      <td>0</td>\n",
              "      <td>3</td>\n",
              "      <td>Thur</td>\n",
              "    </tr>\n",
              "    <tr>\n",
              "      <th>1</th>\n",
              "      <td>2011-01-20 01:00:00</td>\n",
              "      <td>1</td>\n",
              "      <td>0</td>\n",
              "      <td>1</td>\n",
              "      <td>1</td>\n",
              "      <td>10.66</td>\n",
              "      <td>13.635</td>\n",
              "      <td>56</td>\n",
              "      <td>0.0000</td>\n",
              "      <td>2011</td>\n",
              "      <td>1</td>\n",
              "      <td>20</td>\n",
              "      <td>1</td>\n",
              "      <td>0</td>\n",
              "      <td>0</td>\n",
              "      <td>3</td>\n",
              "      <td>Thur</td>\n",
              "    </tr>\n",
              "    <tr>\n",
              "      <th>2</th>\n",
              "      <td>2011-01-20 02:00:00</td>\n",
              "      <td>1</td>\n",
              "      <td>0</td>\n",
              "      <td>1</td>\n",
              "      <td>1</td>\n",
              "      <td>10.66</td>\n",
              "      <td>13.635</td>\n",
              "      <td>56</td>\n",
              "      <td>0.0000</td>\n",
              "      <td>2011</td>\n",
              "      <td>1</td>\n",
              "      <td>20</td>\n",
              "      <td>2</td>\n",
              "      <td>0</td>\n",
              "      <td>0</td>\n",
              "      <td>3</td>\n",
              "      <td>Thur</td>\n",
              "    </tr>\n",
              "    <tr>\n",
              "      <th>3</th>\n",
              "      <td>2011-01-20 03:00:00</td>\n",
              "      <td>1</td>\n",
              "      <td>0</td>\n",
              "      <td>1</td>\n",
              "      <td>1</td>\n",
              "      <td>10.66</td>\n",
              "      <td>12.880</td>\n",
              "      <td>56</td>\n",
              "      <td>11.0014</td>\n",
              "      <td>2011</td>\n",
              "      <td>1</td>\n",
              "      <td>20</td>\n",
              "      <td>3</td>\n",
              "      <td>0</td>\n",
              "      <td>0</td>\n",
              "      <td>3</td>\n",
              "      <td>Thur</td>\n",
              "    </tr>\n",
              "    <tr>\n",
              "      <th>4</th>\n",
              "      <td>2011-01-20 04:00:00</td>\n",
              "      <td>1</td>\n",
              "      <td>0</td>\n",
              "      <td>1</td>\n",
              "      <td>1</td>\n",
              "      <td>10.66</td>\n",
              "      <td>12.880</td>\n",
              "      <td>56</td>\n",
              "      <td>11.0014</td>\n",
              "      <td>2011</td>\n",
              "      <td>1</td>\n",
              "      <td>20</td>\n",
              "      <td>4</td>\n",
              "      <td>0</td>\n",
              "      <td>0</td>\n",
              "      <td>3</td>\n",
              "      <td>Thur</td>\n",
              "    </tr>\n",
              "  </tbody>\n",
              "</table>\n",
              "</div>"
            ],
            "text/plain": [
              "             datetime  season  holiday  workingday  ...  min  sec  dow  dow_humanized\n",
              "0 2011-01-20 00:00:00       1        0           1  ...    0    0    3           Thur\n",
              "1 2011-01-20 01:00:00       1        0           1  ...    0    0    3           Thur\n",
              "2 2011-01-20 02:00:00       1        0           1  ...    0    0    3           Thur\n",
              "3 2011-01-20 03:00:00       1        0           1  ...    0    0    3           Thur\n",
              "4 2011-01-20 04:00:00       1        0           1  ...    0    0    3           Thur\n",
              "\n",
              "[5 rows x 17 columns]"
            ]
          },
          "metadata": {
            "tags": []
          },
          "execution_count": 18
        }
      ]
    },
    {
      "cell_type": "markdown",
      "metadata": {
        "id": "glxxhZEk6s4V"
      },
      "source": [
        "#### EDA"
      ]
    },
    {
      "cell_type": "code",
      "metadata": {
        "colab": {
          "base_uri": "https://localhost:8080/",
          "height": 514
        },
        "id": "lcp7TSWM6bDV",
        "outputId": "191bac4e-bcdc-41ac-f65d-6cd7a2fb5680"
      },
      "source": [
        "figure, ((ax1, ax2, ax3), (ax4, ax5, ax6)) = plt.subplots(nrows = 2, ncols = 3)\n",
        "\n",
        "figure.set_size_inches(18,8)\n",
        "\n",
        "sns.barplot(data = train, x = 'year' , y = 'count', ax = ax1)\n",
        "sns.barplot(data = train, x = 'month', y = 'count', ax = ax2)\n",
        "sns.barplot(data = train, x = 'day'  , y = 'count', ax = ax3)\n",
        "sns.barplot(data = train, x = 'hour' , y = 'count', ax = ax4)\n",
        "sns.barplot(data = train, x = 'min'  , y = 'count', ax = ax5)\n",
        "sns.barplot(data = train, x = 'sec'  , y = 'count', ax = ax6)"
      ],
      "execution_count": null,
      "outputs": [
        {
          "output_type": "execute_result",
          "data": {
            "text/plain": [
              "<matplotlib.axes._subplots.AxesSubplot at 0x7f15e0af4490>"
            ]
          },
          "metadata": {
            "tags": []
          },
          "execution_count": 19
        },
        {
          "output_type": "display_data",
          "data": {
            "image/png": "[encoded data removed]",
            "text/plain": [
              "<Figure size 1296x576 with 6 Axes>"
            ]
          },
          "metadata": {
            "tags": []
          }
        }
      ]
    },
    {
      "cell_type": "code",
      "metadata": {
        "id": "0o6rIY5a7UyN"
      },
      "source": [
        "train['year_str']   = train.year.astype('str')\n",
        "train['month_str']  = train.month.astype('str')\n",
        "train['year_month'] = train.year_str + '-' + train.month_str"
      ],
      "execution_count": null,
      "outputs": []
    },
    {
      "cell_type": "code",
      "metadata": {
        "colab": {
          "base_uri": "https://localhost:8080/",
          "height": 195
        },
        "id": "2jeGuDDu8DY9",
        "outputId": "03e6040b-ae99-4f5d-bd4c-495ca2968787"
      },
      "source": [
        "train[['year','month','year_month']].head()"
      ],
      "execution_count": null,
      "outputs": [
        {
          "output_type": "execute_result",
          "data": {
            "text/html": [
              "<div>\n",
              "<style scoped>\n",
              "    .dataframe tbody tr th:only-of-type {\n",
              "        vertical-align: middle;\n",
              "    }\n",
              "\n",
              "    .dataframe tbody tr th {\n",
              "        vertical-align: top;\n",
              "    }\n",
              "\n",
              "    .dataframe thead th {\n",
              "        text-align: right;\n",
              "    }\n",
              "</style>\n",
              "<table border=\"1\" class=\"dataframe\">\n",
              "  <thead>\n",
              "    <tr style=\"text-align: right;\">\n",
              "      <th></th>\n",
              "      <th>year</th>\n",
              "      <th>month</th>\n",
              "      <th>year_month</th>\n",
              "    </tr>\n",
              "  </thead>\n",
              "  <tbody>\n",
              "    <tr>\n",
              "      <th>0</th>\n",
              "      <td>2011</td>\n",
              "      <td>1</td>\n",
              "      <td>2011-1</td>\n",
              "    </tr>\n",
              "    <tr>\n",
              "      <th>1</th>\n",
              "      <td>2011</td>\n",
              "      <td>1</td>\n",
              "      <td>2011-1</td>\n",
              "    </tr>\n",
              "    <tr>\n",
              "      <th>2</th>\n",
              "      <td>2011</td>\n",
              "      <td>1</td>\n",
              "      <td>2011-1</td>\n",
              "    </tr>\n",
              "    <tr>\n",
              "      <th>3</th>\n",
              "      <td>2011</td>\n",
              "      <td>1</td>\n",
              "      <td>2011-1</td>\n",
              "    </tr>\n",
              "    <tr>\n",
              "      <th>4</th>\n",
              "      <td>2011</td>\n",
              "      <td>1</td>\n",
              "      <td>2011-1</td>\n",
              "    </tr>\n",
              "  </tbody>\n",
              "</table>\n",
              "</div>"
            ],
            "text/plain": [
              "   year  month year_month\n",
              "0  2011      1     2011-1\n",
              "1  2011      1     2011-1\n",
              "2  2011      1     2011-1\n",
              "3  2011      1     2011-1\n",
              "4  2011      1     2011-1"
            ]
          },
          "metadata": {
            "tags": []
          },
          "execution_count": 21
        }
      ]
    },
    {
      "cell_type": "code",
      "metadata": {
        "colab": {
          "base_uri": "https://localhost:8080/",
          "height": 560
        },
        "id": "_PcA3dNp8LU6",
        "outputId": "d7596463-e537-4eae-e207-ad940e970578"
      },
      "source": [
        "figure, (ax1, ax2) = plt.subplots(nrows = 1, ncols = 2)\n",
        "figure.set_size_inches(18,4)\n",
        "\n",
        "sns.barplot(data = train, x = 'year'      , y = 'count', ax = ax1)\n",
        "sns.barplot(data = train, x = 'month'     , y = 'count', ax = ax2)\n",
        "\n",
        "figure, ax3 = plt.subplots(nrows = 1, ncols = 1)\n",
        "figure.set_size_inches(18,4)\n",
        "\n",
        "sns.barplot(data = train, x = 'year_month', y = 'count', ax = ax3)\n"
      ],
      "execution_count": null,
      "outputs": [
        {
          "output_type": "execute_result",
          "data": {
            "text/plain": [
              "<matplotlib.axes._subplots.AxesSubplot at 0x7f15dfe23590>"
            ]
          },
          "metadata": {
            "tags": []
          },
          "execution_count": 22
        },
        {
          "output_type": "display_data",
          "data": {
            "image/png": "[encoded data removed]",
            "text/plain": [
              "<Figure size 1296x288 with 2 Axes>"
            ]
          },
          "metadata": {
            "tags": []
          }
        },
        {
          "output_type": "display_data",
          "data": {
            "image/png": "[encoded data removed]",
            "text/plain": [
              "<Figure size 1296x288 with 1 Axes>"
            ]
          },
          "metadata": {
            "tags": []
          }
        }
      ]
    },
    {
      "cell_type": "code",
      "metadata": {
        "colab": {
          "base_uri": "https://localhost:8080/",
          "height": 408
        },
        "id": "ix892lfB88Uz",
        "outputId": "3affabfc-916c-4605-cecd-e6c418145a7c"
      },
      "source": [
        "figure, (ax1, ax2, ax3) = plt.subplots(nrows = 3, ncols = 1)\n",
        "figure.set_size_inches(18,6)\n",
        "\n",
        "sns.pointplot(data = train, x = 'hour', y = 'count'                       , ax = ax1)\n",
        "sns.pointplot(data = train, x = 'hour', y = 'count', hue = 'workingday'   , ax = ax2)\n",
        "sns.pointplot(data = train, x = 'hour', y = 'count', hue = 'dow_humanized', ax = ax3)"
      ],
      "execution_count": null,
      "outputs": [
        {
          "output_type": "execute_result",
          "data": {
            "text/plain": [
              "<matplotlib.axes._subplots.AxesSubplot at 0x7f15dfc80790>"
            ]
          },
          "metadata": {
            "tags": []
          },
          "execution_count": 23
        },
        {
          "output_type": "display_data",
          "data": {
            "image/png": "[encoded data removed]",
            "text/plain": [
              "<Figure size 1296x432 with 3 Axes>"
            ]
          },
          "metadata": {
            "tags": []
          }
        }
      ]
    },
    {
      "cell_type": "code",
      "metadata": {
        "colab": {
          "base_uri": "https://localhost:8080/",
          "height": 298
        },
        "id": "vuCRLj6k911P",
        "outputId": "ba4e9269-d759-4ca8-b078-8132c9b317c7"
      },
      "source": [
        "figure, (ax1, ax2) = plt.subplots(nrows = 1, ncols = 2)\n",
        "figure.set_size_inches(18,4)\n",
        "\n",
        "sns.barplot  (data = train, x = 'season', y = 'count'                , ax = ax1)\n",
        "sns.pointplot(data = train, x = 'hour'  , y = 'count', hue = 'season', ax = ax2)"
      ],
      "execution_count": null,
      "outputs": [
        {
          "output_type": "execute_result",
          "data": {
            "text/plain": [
              "<matplotlib.axes._subplots.AxesSubplot at 0x7f15df778250>"
            ]
          },
          "metadata": {
            "tags": []
          },
          "execution_count": 24
        },
        {
          "output_type": "display_data",
          "data": {
            "image/png": "[encoded data removed]",
            "text/plain": [
              "<Figure size 1296x288 with 2 Axes>"
            ]
          },
          "metadata": {
            "tags": []
          }
        }
      ]
    },
    {
      "cell_type": "code",
      "metadata": {
        "colab": {
          "base_uri": "https://localhost:8080/",
          "height": 352
        },
        "id": "bkkUkln3qR4B",
        "outputId": "572338a7-41ec-4710-e7e9-80da516fff79"
      },
      "source": [
        "sns.distplot(train[\"count\"])"
      ],
      "execution_count": null,
      "outputs": [
        {
          "output_type": "stream",
          "text": [
            "/usr/local/lib/python3.7/dist-packages/seaborn/distributions.py:2557: FutureWarning: `distplot` is a deprecated function and will be removed in a future version. Please adapt your code to use either `displot` (a figure-level function with similar flexibility) or `histplot` (an axes-level function for histograms).\n",
            "  warnings.warn(msg, FutureWarning)\n"
          ],
          "name": "stderr"
        },
        {
          "output_type": "execute_result",
          "data": {
            "text/plain": [
              "<matplotlib.axes._subplots.AxesSubplot at 0x7f15de4e4850>"
            ]
          },
          "metadata": {
            "tags": []
          },
          "execution_count": 28
        },
        {
          "output_type": "display_data",
          "data": {
            "image/png": "[encoded data removed]",
            "text/plain": [
              "<Figure size 432x288 with 1 Axes>"
            ]
          },
          "metadata": {
            "tags": []
          }
        }
      ]
    },
    {
      "cell_type": "code",
      "metadata": {
        "colab": {
          "base_uri": "https://localhost:8080/",
          "height": 213
        },
        "id": "A7VMmduwqTIX",
        "outputId": "8cba915b-63aa-44d2-fb53-84acdad20df7"
      },
      "source": [
        "train[\"log_count\"] = np.log(train[\"count\"] + 1)\n",
        "print(train.shape)\n",
        "\n",
        "train[[\"count\",\"log_count\"]].head()"
      ],
      "execution_count": null,
      "outputs": [
        {
          "output_type": "stream",
          "text": [
            "(10886, 24)\n"
          ],
          "name": "stdout"
        },
        {
          "output_type": "execute_result",
          "data": {
            "text/html": [
              "<div>\n",
              "<style scoped>\n",
              "    .dataframe tbody tr th:only-of-type {\n",
              "        vertical-align: middle;\n",
              "    }\n",
              "\n",
              "    .dataframe tbody tr th {\n",
              "        vertical-align: top;\n",
              "    }\n",
              "\n",
              "    .dataframe thead th {\n",
              "        text-align: right;\n",
              "    }\n",
              "</style>\n",
              "<table border=\"1\" class=\"dataframe\">\n",
              "  <thead>\n",
              "    <tr style=\"text-align: right;\">\n",
              "      <th></th>\n",
              "      <th>count</th>\n",
              "      <th>log_count</th>\n",
              "    </tr>\n",
              "  </thead>\n",
              "  <tbody>\n",
              "    <tr>\n",
              "      <th>0</th>\n",
              "      <td>16</td>\n",
              "      <td>2.833213</td>\n",
              "    </tr>\n",
              "    <tr>\n",
              "      <th>1</th>\n",
              "      <td>40</td>\n",
              "      <td>3.713572</td>\n",
              "    </tr>\n",
              "    <tr>\n",
              "      <th>2</th>\n",
              "      <td>32</td>\n",
              "      <td>3.496508</td>\n",
              "    </tr>\n",
              "    <tr>\n",
              "      <th>3</th>\n",
              "      <td>13</td>\n",
              "      <td>2.639057</td>\n",
              "    </tr>\n",
              "    <tr>\n",
              "      <th>4</th>\n",
              "      <td>1</td>\n",
              "      <td>0.693147</td>\n",
              "    </tr>\n",
              "  </tbody>\n",
              "</table>\n",
              "</div>"
            ],
            "text/plain": [
              "   count  log_count\n",
              "0     16   2.833213\n",
              "1     40   3.713572\n",
              "2     32   3.496508\n",
              "3     13   2.639057\n",
              "4      1   0.693147"
            ]
          },
          "metadata": {
            "tags": []
          },
          "execution_count": 29
        }
      ]
    },
    {
      "cell_type": "code",
      "metadata": {
        "colab": {
          "base_uri": "https://localhost:8080/",
          "height": 388
        },
        "id": "FH9o6lHRqcV9",
        "outputId": "ade75e74-30b0-4762-e0c5-68f0bef952e0"
      },
      "source": [
        "figure, (ax1, ax2) = plt.subplots(nrows = 1, ncols =2)\n",
        "\n",
        "figure.set_size_inches(18,4)\n",
        "\n",
        "sns.distplot(train[\"count\"], ax=ax1)\n",
        "sns.distplot(train[\"log_count\"], ax=ax2)"
      ],
      "execution_count": null,
      "outputs": [
        {
          "output_type": "stream",
          "text": [
            "/usr/local/lib/python3.7/dist-packages/seaborn/distributions.py:2557: FutureWarning: `distplot` is a deprecated function and will be removed in a future version. Please adapt your code to use either `displot` (a figure-level function with similar flexibility) or `histplot` (an axes-level function for histograms).\n",
            "  warnings.warn(msg, FutureWarning)\n",
            "/usr/local/lib/python3.7/dist-packages/seaborn/distributions.py:2557: FutureWarning: `distplot` is a deprecated function and will be removed in a future version. Please adapt your code to use either `displot` (a figure-level function with similar flexibility) or `histplot` (an axes-level function for histograms).\n",
            "  warnings.warn(msg, FutureWarning)\n"
          ],
          "name": "stderr"
        },
        {
          "output_type": "execute_result",
          "data": {
            "text/plain": [
              "<matplotlib.axes._subplots.AxesSubplot at 0x7f15dff52510>"
            ]
          },
          "metadata": {
            "tags": []
          },
          "execution_count": 30
        },
        {
          "output_type": "display_data",
          "data": {
            "image/png": "[encoded data removed]",
            "text/plain": [
              "<Figure size 1296x288 with 2 Axes>"
            ]
          },
          "metadata": {
            "tags": []
          }
        }
      ]
    },
    {
      "cell_type": "code",
      "metadata": {
        "id": "B6ah-581py_8"
      },
      "source": [
        "\n",
        "categorical_feature_names = [\"season\",\"holiday\",\"workingday\",\"weather\",\n",
        "                             \"dow\", \"year\",\"month\",\"hour\"]\n",
        "\n",
        "for variable in categorical_feature_names:\n",
        "    train[variable].astype('category')\n",
        "    test[variable].astype('category')"
      ],
      "execution_count": null,
      "outputs": []
    },
    {
      "cell_type": "code",
      "metadata": {
        "colab": {
          "base_uri": "https://localhost:8080/"
        },
        "id": "wojLQz8Zp0Uq",
        "outputId": "3bfcde88-2978-43f6-eee6-526926488a9b"
      },
      "source": [
        "feature_names = ['season', 'holiday', 'workingday', 'weather', 'temp', \n",
        "                 'atemp', 'humidity', 'windspeed', 'year','month', 'hour', 'dow']\n",
        "\n",
        "feature_names"
      ],
      "execution_count": null,
      "outputs": [
        {
          "output_type": "execute_result",
          "data": {
            "text/plain": [
              "['season',\n",
              " 'holiday',\n",
              " 'workingday',\n",
              " 'weather',\n",
              " 'temp',\n",
              " 'atemp',\n",
              " 'humidity',\n",
              " 'windspeed',\n",
              " 'year',\n",
              " 'month',\n",
              " 'hour',\n",
              " 'dow']"
            ]
          },
          "metadata": {
            "tags": []
          },
          "execution_count": 56
        }
      ]
    },
    {
      "cell_type": "code",
      "metadata": {
        "colab": {
          "base_uri": "https://localhost:8080/",
          "height": 35
        },
        "id": "5atfAALMAqki",
        "outputId": "9026612e-e3d4-4150-83a4-56f447cc08f9"
      },
      "source": [
        "y = \"log_count\"\n",
        "y"
      ],
      "execution_count": null,
      "outputs": [
        {
          "output_type": "execute_result",
          "data": {
            "application/vnd.google.colaboratory.intrinsic+json": {
              "type": "string"
            },
            "text/plain": [
              "'log_count'"
            ]
          },
          "metadata": {
            "tags": []
          },
          "execution_count": 57
        }
      ]
    },
    {
      "cell_type": "code",
      "metadata": {
        "colab": {
          "base_uri": "https://localhost:8080/",
          "height": 213
        },
        "id": "NVTkoQ13Cxzk",
        "outputId": "52a553d2-582b-41a1-be32-9e5674ff6b3e"
      },
      "source": [
        "X_train = train[feature_names]\n",
        "print(X_train.shape)\n",
        "X_train.head()"
      ],
      "execution_count": null,
      "outputs": [
        {
          "output_type": "stream",
          "text": [
            "(10886, 12)\n"
          ],
          "name": "stdout"
        },
        {
          "output_type": "execute_result",
          "data": {
            "text/html": [
              "<div>\n",
              "<style scoped>\n",
              "    .dataframe tbody tr th:only-of-type {\n",
              "        vertical-align: middle;\n",
              "    }\n",
              "\n",
              "    .dataframe tbody tr th {\n",
              "        vertical-align: top;\n",
              "    }\n",
              "\n",
              "    .dataframe thead th {\n",
              "        text-align: right;\n",
              "    }\n",
              "</style>\n",
              "<table border=\"1\" class=\"dataframe\">\n",
              "  <thead>\n",
              "    <tr style=\"text-align: right;\">\n",
              "      <th></th>\n",
              "      <th>season</th>\n",
              "      <th>holiday</th>\n",
              "      <th>workingday</th>\n",
              "      <th>weather</th>\n",
              "      <th>temp</th>\n",
              "      <th>atemp</th>\n",
              "      <th>humidity</th>\n",
              "      <th>windspeed</th>\n",
              "      <th>year</th>\n",
              "      <th>month</th>\n",
              "      <th>hour</th>\n",
              "      <th>dow</th>\n",
              "    </tr>\n",
              "  </thead>\n",
              "  <tbody>\n",
              "    <tr>\n",
              "      <th>0</th>\n",
              "      <td>1</td>\n",
              "      <td>0</td>\n",
              "      <td>0</td>\n",
              "      <td>1</td>\n",
              "      <td>9.84</td>\n",
              "      <td>14.395</td>\n",
              "      <td>81</td>\n",
              "      <td>0.0</td>\n",
              "      <td>2011</td>\n",
              "      <td>1</td>\n",
              "      <td>0</td>\n",
              "      <td>5</td>\n",
              "    </tr>\n",
              "    <tr>\n",
              "      <th>1</th>\n",
              "      <td>1</td>\n",
              "      <td>0</td>\n",
              "      <td>0</td>\n",
              "      <td>1</td>\n",
              "      <td>9.02</td>\n",
              "      <td>13.635</td>\n",
              "      <td>80</td>\n",
              "      <td>0.0</td>\n",
              "      <td>2011</td>\n",
              "      <td>1</td>\n",
              "      <td>1</td>\n",
              "      <td>5</td>\n",
              "    </tr>\n",
              "    <tr>\n",
              "      <th>2</th>\n",
              "      <td>1</td>\n",
              "      <td>0</td>\n",
              "      <td>0</td>\n",
              "      <td>1</td>\n",
              "      <td>9.02</td>\n",
              "      <td>13.635</td>\n",
              "      <td>80</td>\n",
              "      <td>0.0</td>\n",
              "      <td>2011</td>\n",
              "      <td>1</td>\n",
              "      <td>2</td>\n",
              "      <td>5</td>\n",
              "    </tr>\n",
              "    <tr>\n",
              "      <th>3</th>\n",
              "      <td>1</td>\n",
              "      <td>0</td>\n",
              "      <td>0</td>\n",
              "      <td>1</td>\n",
              "      <td>9.84</td>\n",
              "      <td>14.395</td>\n",
              "      <td>75</td>\n",
              "      <td>0.0</td>\n",
              "      <td>2011</td>\n",
              "      <td>1</td>\n",
              "      <td>3</td>\n",
              "      <td>5</td>\n",
              "    </tr>\n",
              "    <tr>\n",
              "      <th>4</th>\n",
              "      <td>1</td>\n",
              "      <td>0</td>\n",
              "      <td>0</td>\n",
              "      <td>1</td>\n",
              "      <td>9.84</td>\n",
              "      <td>14.395</td>\n",
              "      <td>75</td>\n",
              "      <td>0.0</td>\n",
              "      <td>2011</td>\n",
              "      <td>1</td>\n",
              "      <td>4</td>\n",
              "      <td>5</td>\n",
              "    </tr>\n",
              "  </tbody>\n",
              "</table>\n",
              "</div>"
            ],
            "text/plain": [
              "   season  holiday  workingday  weather  ...  year  month  hour  dow\n",
              "0       1        0           0        1  ...  2011      1     0    5\n",
              "1       1        0           0        1  ...  2011      1     1    5\n",
              "2       1        0           0        1  ...  2011      1     2    5\n",
              "3       1        0           0        1  ...  2011      1     3    5\n",
              "4       1        0           0        1  ...  2011      1     4    5\n",
              "\n",
              "[5 rows x 12 columns]"
            ]
          },
          "metadata": {
            "tags": []
          },
          "execution_count": 58
        }
      ]
    },
    {
      "cell_type": "code",
      "metadata": {
        "colab": {
          "base_uri": "https://localhost:8080/",
          "height": 195
        },
        "id": "iYu5rPh_p2lr",
        "outputId": "e30ba502-8b2c-4a7f-83c6-16ac2d74b9ea"
      },
      "source": [
        "X_test = test[feature_names]\n",
        "X_test.head()"
      ],
      "execution_count": null,
      "outputs": [
        {
          "output_type": "execute_result",
          "data": {
            "text/html": [
              "<div>\n",
              "<style scoped>\n",
              "    .dataframe tbody tr th:only-of-type {\n",
              "        vertical-align: middle;\n",
              "    }\n",
              "\n",
              "    .dataframe tbody tr th {\n",
              "        vertical-align: top;\n",
              "    }\n",
              "\n",
              "    .dataframe thead th {\n",
              "        text-align: right;\n",
              "    }\n",
              "</style>\n",
              "<table border=\"1\" class=\"dataframe\">\n",
              "  <thead>\n",
              "    <tr style=\"text-align: right;\">\n",
              "      <th></th>\n",
              "      <th>season</th>\n",
              "      <th>holiday</th>\n",
              "      <th>workingday</th>\n",
              "      <th>weather</th>\n",
              "      <th>temp</th>\n",
              "      <th>atemp</th>\n",
              "      <th>humidity</th>\n",
              "      <th>windspeed</th>\n",
              "      <th>year</th>\n",
              "      <th>month</th>\n",
              "      <th>hour</th>\n",
              "      <th>dow</th>\n",
              "    </tr>\n",
              "  </thead>\n",
              "  <tbody>\n",
              "    <tr>\n",
              "      <th>0</th>\n",
              "      <td>1</td>\n",
              "      <td>0</td>\n",
              "      <td>1</td>\n",
              "      <td>1</td>\n",
              "      <td>10.66</td>\n",
              "      <td>11.365</td>\n",
              "      <td>56</td>\n",
              "      <td>26.0027</td>\n",
              "      <td>2011</td>\n",
              "      <td>1</td>\n",
              "      <td>0</td>\n",
              "      <td>3</td>\n",
              "    </tr>\n",
              "    <tr>\n",
              "      <th>1</th>\n",
              "      <td>1</td>\n",
              "      <td>0</td>\n",
              "      <td>1</td>\n",
              "      <td>1</td>\n",
              "      <td>10.66</td>\n",
              "      <td>13.635</td>\n",
              "      <td>56</td>\n",
              "      <td>0.0000</td>\n",
              "      <td>2011</td>\n",
              "      <td>1</td>\n",
              "      <td>1</td>\n",
              "      <td>3</td>\n",
              "    </tr>\n",
              "    <tr>\n",
              "      <th>2</th>\n",
              "      <td>1</td>\n",
              "      <td>0</td>\n",
              "      <td>1</td>\n",
              "      <td>1</td>\n",
              "      <td>10.66</td>\n",
              "      <td>13.635</td>\n",
              "      <td>56</td>\n",
              "      <td>0.0000</td>\n",
              "      <td>2011</td>\n",
              "      <td>1</td>\n",
              "      <td>2</td>\n",
              "      <td>3</td>\n",
              "    </tr>\n",
              "    <tr>\n",
              "      <th>3</th>\n",
              "      <td>1</td>\n",
              "      <td>0</td>\n",
              "      <td>1</td>\n",
              "      <td>1</td>\n",
              "      <td>10.66</td>\n",
              "      <td>12.880</td>\n",
              "      <td>56</td>\n",
              "      <td>11.0014</td>\n",
              "      <td>2011</td>\n",
              "      <td>1</td>\n",
              "      <td>3</td>\n",
              "      <td>3</td>\n",
              "    </tr>\n",
              "    <tr>\n",
              "      <th>4</th>\n",
              "      <td>1</td>\n",
              "      <td>0</td>\n",
              "      <td>1</td>\n",
              "      <td>1</td>\n",
              "      <td>10.66</td>\n",
              "      <td>12.880</td>\n",
              "      <td>56</td>\n",
              "      <td>11.0014</td>\n",
              "      <td>2011</td>\n",
              "      <td>1</td>\n",
              "      <td>4</td>\n",
              "      <td>3</td>\n",
              "    </tr>\n",
              "  </tbody>\n",
              "</table>\n",
              "</div>"
            ],
            "text/plain": [
              "   season  holiday  workingday  weather  ...  year  month  hour  dow\n",
              "0       1        0           1        1  ...  2011      1     0    3\n",
              "1       1        0           1        1  ...  2011      1     1    3\n",
              "2       1        0           1        1  ...  2011      1     2    3\n",
              "3       1        0           1        1  ...  2011      1     3    3\n",
              "4       1        0           1        1  ...  2011      1     4    3\n",
              "\n",
              "[5 rows x 12 columns]"
            ]
          },
          "metadata": {
            "tags": []
          },
          "execution_count": 59
        }
      ]
    },
    {
      "cell_type": "code",
      "metadata": {
        "colab": {
          "base_uri": "https://localhost:8080/"
        },
        "id": "a4iz7RkYqFE5",
        "outputId": "11a4c324-7e07-4a78-906d-ce1f6c1f9702"
      },
      "source": [
        "\n",
        "y_train = train[y]\n",
        "print(y_train.shape)\n",
        "y_train.head()"
      ],
      "execution_count": null,
      "outputs": [
        {
          "output_type": "stream",
          "text": [
            "(10886,)\n"
          ],
          "name": "stdout"
        },
        {
          "output_type": "execute_result",
          "data": {
            "text/plain": [
              "0    2.833213\n",
              "1    3.713572\n",
              "2    3.496508\n",
              "3    2.639057\n",
              "4    0.693147\n",
              "Name: log_count, dtype: float64"
            ]
          },
          "metadata": {
            "tags": []
          },
          "execution_count": 60
        }
      ]
    },
    {
      "cell_type": "code",
      "metadata": {
        "colab": {
          "base_uri": "https://localhost:8080/"
        },
        "id": "xFFPw8vTqiHN",
        "outputId": "5455e586-31e8-4b27-b19a-e2ad10c94d03"
      },
      "source": [
        "from sklearn.metrics import make_scorer\n",
        "\n",
        "def rmse(predict, actual):\n",
        "    \n",
        "    predict = np.array(predict)\n",
        "    actual = np.array(actual)\n",
        "    \n",
        "    distance = predict - actual\n",
        "    \n",
        "    square_distance = distance**2\n",
        "    \n",
        "    mean_square_distance = square_distance.mean()\n",
        "    \n",
        "    score = np.square(mean_square_distance)\n",
        "    \n",
        "    return score\n",
        "\n",
        "rmse_score = make_scorer(rmse)\n",
        "rmse_score"
      ],
      "execution_count": null,
      "outputs": [
        {
          "output_type": "execute_result",
          "data": {
            "text/plain": [
              "make_scorer(rmse)"
            ]
          },
          "metadata": {
            "tags": []
          },
          "execution_count": 61
        }
      ]
    },
    {
      "cell_type": "code",
      "metadata": {
        "colab": {
          "base_uri": "https://localhost:8080/"
        },
        "id": "H2PlqkmeqjUr",
        "outputId": "cb425fad-0cde-42a3-aae5-d654b44f5b2e"
      },
      "source": [
        "from sklearn.ensemble import RandomForestRegressor\n",
        "\n",
        "RandomForestRegressor"
      ],
      "execution_count": null,
      "outputs": [
        {
          "output_type": "execute_result",
          "data": {
            "text/plain": [
              "sklearn.ensemble._forest.RandomForestRegressor"
            ]
          },
          "metadata": {
            "tags": []
          },
          "execution_count": 62
        }
      ]
    },
    {
      "cell_type": "code",
      "metadata": {
        "colab": {
          "background_save": true,
          "base_uri": "https://localhost:8080/",
          "height": 1000
        },
        "id": "JO_n-GYBqlMx",
        "outputId": "6af98759-b2d4-43ff-d147-3faeef65ef55"
      },
      "source": [
        "from sklearn.model_selection import cross_val_score\n",
        "\n",
        "n_estimators = 300\n",
        "\n",
        "n_epoch = 100\n",
        "\n",
        "coarse_hyperparameters_list =[]\n",
        "\n",
        "for epoch in range(n_epoch):\n",
        "    max_depth=np.random.randint(low=2, high=100)\n",
        "    max_features=np.random.uniform(low=0.1, high=1.0)\n",
        "    \n",
        "    model = RandomForestRegressor(n_estimators = n_estimators,\n",
        "                                 max_depth = max_depth,\n",
        "                                 max_features = max_features,\n",
        "                                 n_jobs =-1,\n",
        "                                 random_state=37)\n",
        "    score = cross_val_score(model, X_train, y_train, cv=20, scoring = rmse_score).mean()\n",
        "    \n",
        "    hyperparameters = {\n",
        "        'epoch': epoch,\n",
        "        'score': score,\n",
        "        'n_estimators': n_estimators,\n",
        "        'max_depth': max_depth,\n",
        "        'max_features': max_features,\n",
        "    }\n",
        "    \n",
        "    coarse_hyperparameters_list.append(hyperparameters)\n",
        "    \n",
        "    print(f\"{epoch:2} n_estimators = {n_estimators}, max_depth = {max_depth:2}, max_features = {max_features:.6f}, Score = {score:.5f}\")\n",
        "\n",
        "    \n",
        "coarse_hyperparameters_list = pd.DataFrame.from_dict(coarse_hyperparameters_list)\n",
        "\n",
        "coarse_hyperparameters_list = coarse_hyperparameters_list.sort_values(by=\"score\")\n",
        "\n",
        "print(coarse_hyperparameters_list.shape)\n",
        "\n",
        "coarse_hyperparameters_list.head(10)"
      ],
      "execution_count": null,
      "outputs": [
        {
          "output_type": "stream",
          "text": [
            " 0 n_estimators = 300, max_depth = 19, max_features = 0.765345, Score = 0.01794\n",
            " 1 n_estimators = 300, max_depth = 13, max_features = 0.166679, Score = 0.10052\n",
            " 2 n_estimators = 300, max_depth = 15, max_features = 0.987691, Score = 0.01809\n",
            " 3 n_estimators = 300, max_depth = 39, max_features = 0.218155, Score = 0.08119\n",
            " 4 n_estimators = 300, max_depth = 28, max_features = 0.883227, Score = 0.01791\n",
            " 5 n_estimators = 300, max_depth = 57, max_features = 0.928616, Score = 0.01778\n",
            " 6 n_estimators = 300, max_depth = 90, max_features = 0.452211, Score = 0.02455\n",
            " 7 n_estimators = 300, max_depth = 69, max_features = 0.179620, Score = 0.08119\n",
            " 8 n_estimators = 300, max_depth = 78, max_features = 0.951813, Score = 0.01778\n",
            " 9 n_estimators = 300, max_depth = 19, max_features = 0.907309, Score = 0.01783\n",
            "10 n_estimators = 300, max_depth = 78, max_features = 0.457233, Score = 0.02455\n",
            "11 n_estimators = 300, max_depth = 67, max_features = 0.450765, Score = 0.02455\n",
            "12 n_estimators = 300, max_depth = 43, max_features = 0.630996, Score = 0.01922\n",
            "13 n_estimators = 300, max_depth =  5, max_features = 0.392601, Score = 0.22829\n",
            "14 n_estimators = 300, max_depth = 54, max_features = 0.103844, Score = 0.15915\n",
            "15 n_estimators = 300, max_depth = 88, max_features = 0.157723, Score = 0.15915\n",
            "16 n_estimators = 300, max_depth = 45, max_features = 0.420677, Score = 0.02455\n",
            "17 n_estimators = 300, max_depth =  7, max_features = 0.982914, Score = 0.06023\n",
            "18 n_estimators = 300, max_depth = 63, max_features = 0.182536, Score = 0.08119\n",
            "19 n_estimators = 300, max_depth = 32, max_features = 0.408204, Score = 0.03245\n",
            "20 n_estimators = 300, max_depth = 35, max_features = 0.265920, Score = 0.04629\n",
            "21 n_estimators = 300, max_depth = 66, max_features = 0.580756, Score = 0.02107\n",
            "22 n_estimators = 300, max_depth = 24, max_features = 0.867214, Score = 0.01785\n",
            "23 n_estimators = 300, max_depth = 41, max_features = 0.253424, Score = 0.04629\n",
            "24 n_estimators = 300, max_depth =  7, max_features = 0.950671, Score = 0.06023\n",
            "25 n_estimators = 300, max_depth = 19, max_features = 0.526535, Score = 0.02127\n",
            "26 n_estimators = 300, max_depth = 47, max_features = 0.222833, Score = 0.08119\n",
            "27 n_estimators = 300, max_depth = 86, max_features = 0.885262, Score = 0.01782\n",
            "28 n_estimators = 300, max_depth = 82, max_features = 0.697561, Score = 0.01839\n",
            "29 n_estimators = 300, max_depth = 67, max_features = 0.404743, Score = 0.03235\n",
            "30 n_estimators = 300, max_depth = 61, max_features = 0.585931, Score = 0.01922\n",
            "31 n_estimators = 300, max_depth = 49, max_features = 0.355298, Score = 0.03235\n",
            "32 n_estimators = 300, max_depth = 37, max_features = 0.247335, Score = 0.08119\n",
            "33 n_estimators = 300, max_depth = 98, max_features = 0.524743, Score = 0.02107\n",
            "34 n_estimators = 300, max_depth = 91, max_features = 0.979464, Score = 0.01778\n",
            "35 n_estimators = 300, max_depth = 73, max_features = 0.164461, Score = 0.15915\n",
            "36 n_estimators = 300, max_depth = 53, max_features = 0.675761, Score = 0.01839\n",
            "37 n_estimators = 300, max_depth = 35, max_features = 0.312657, Score = 0.04629\n",
            "38 n_estimators = 300, max_depth = 35, max_features = 0.523616, Score = 0.02107\n",
            "39 n_estimators = 300, max_depth = 11, max_features = 0.403777, Score = 0.04634\n",
            "40 n_estimators = 300, max_depth = 75, max_features = 0.734859, Score = 0.01839\n",
            "41 n_estimators = 300, max_depth = 19, max_features = 0.336092, Score = 0.03240\n",
            "42 n_estimators = 300, max_depth = 41, max_features = 0.603455, Score = 0.01922\n",
            "43 n_estimators = 300, max_depth = 98, max_features = 0.244152, Score = 0.08119\n",
            "44 n_estimators = 300, max_depth = 66, max_features = 0.776084, Score = 0.01771\n",
            "45 n_estimators = 300, max_depth = 61, max_features = 0.633452, Score = 0.01922\n",
            "46 n_estimators = 300, max_depth = 22, max_features = 0.974569, Score = 0.01793\n",
            "47 n_estimators = 300, max_depth = 86, max_features = 0.809071, Score = 0.01771\n",
            "48 n_estimators = 300, max_depth = 39, max_features = 0.735988, Score = 0.01839\n",
            "49 n_estimators = 300, max_depth = 72, max_features = 0.242483, Score = 0.08119\n",
            "50 n_estimators = 300, max_depth = 87, max_features = 0.689778, Score = 0.01839\n",
            "51 n_estimators = 300, max_depth = 71, max_features = 0.690541, Score = 0.01839\n",
            "52 n_estimators = 300, max_depth = 67, max_features = 0.847604, Score = 0.01782\n",
            "53 n_estimators = 300, max_depth = 72, max_features = 0.532393, Score = 0.02107\n",
            "54 n_estimators = 300, max_depth = 16, max_features = 0.107032, Score = 0.17003\n",
            "55 n_estimators = 300, max_depth = 96, max_features = 0.645666, Score = 0.01922\n",
            "56 n_estimators = 300, max_depth = 91, max_features = 0.667811, Score = 0.01839\n",
            "57 n_estimators = 300, max_depth = 55, max_features = 0.268474, Score = 0.04629\n",
            "58 n_estimators = 300, max_depth = 70, max_features = 0.449622, Score = 0.02455\n",
            "59 n_estimators = 300, max_depth = 71, max_features = 0.752013, Score = 0.01771\n",
            "60 n_estimators = 300, max_depth = 79, max_features = 0.261850, Score = 0.04629\n",
            "61 n_estimators = 300, max_depth = 87, max_features = 0.921677, Score = 0.01778\n",
            "62 n_estimators = 300, max_depth =  8, max_features = 0.455807, Score = 0.06481\n",
            "63 n_estimators = 300, max_depth = 64, max_features = 0.446415, Score = 0.02455\n",
            "64 n_estimators = 300, max_depth = 14, max_features = 0.658431, Score = 0.02030\n",
            "65 n_estimators = 300, max_depth = 50, max_features = 0.804194, Score = 0.01771\n",
            "66 n_estimators = 300, max_depth = 67, max_features = 0.509036, Score = 0.02107\n",
            "67 n_estimators = 300, max_depth = 54, max_features = 0.498599, Score = 0.02455\n",
            "68 n_estimators = 300, max_depth = 48, max_features = 0.915877, Score = 0.01782\n",
            "69 n_estimators = 300, max_depth = 31, max_features = 0.570377, Score = 0.02102\n",
            "70 n_estimators = 300, max_depth = 57, max_features = 0.991388, Score = 0.01778\n",
            "71 n_estimators = 300, max_depth = 32, max_features = 0.611237, Score = 0.01923\n",
            "72 n_estimators = 300, max_depth = 12, max_features = 0.352568, Score = 0.04068\n",
            "73 n_estimators = 300, max_depth = 80, max_features = 0.254498, Score = 0.04629\n",
            "74 n_estimators = 300, max_depth = 42, max_features = 0.569033, Score = 0.02107\n",
            "75 n_estimators = 300, max_depth = 91, max_features = 0.536646, Score = 0.02107\n",
            "76 n_estimators = 300, max_depth = 30, max_features = 0.569061, Score = 0.02108\n",
            "77 n_estimators = 300, max_depth = 37, max_features = 0.795487, Score = 0.01771\n",
            "78 n_estimators = 300, max_depth = 46, max_features = 0.848892, Score = 0.01782\n",
            "79 n_estimators = 300, max_depth = 99, max_features = 0.469743, Score = 0.02455\n",
            "80 n_estimators = 300, max_depth = 90, max_features = 0.336391, Score = 0.03235\n",
            "81 n_estimators = 300, max_depth = 31, max_features = 0.220503, Score = 0.08121\n",
            "82 n_estimators = 300, max_depth = 38, max_features = 0.584545, Score = 0.01922\n",
            "83 n_estimators = 300, max_depth = 11, max_features = 0.291780, Score = 0.06765\n",
            "84 n_estimators = 300, max_depth = 14, max_features = 0.213344, Score = 0.09239\n",
            "85 n_estimators = 300, max_depth = 55, max_features = 0.215478, Score = 0.08119\n",
            "86 n_estimators = 300, max_depth = 31, max_features = 0.426342, Score = 0.02449\n",
            "87 n_estimators = 300, max_depth = 85, max_features = 0.269935, Score = 0.04629\n",
            "88 n_estimators = 300, max_depth = 81, max_features = 0.126752, Score = 0.15915\n",
            "89 n_estimators = 300, max_depth = 18, max_features = 0.732248, Score = 0.01844\n",
            "90 n_estimators = 300, max_depth = 90, max_features = 0.389826, Score = 0.03235\n",
            "91 n_estimators = 300, max_depth = 95, max_features = 0.884994, Score = 0.01782\n",
            "92 n_estimators = 300, max_depth = 82, max_features = 0.793812, Score = 0.01771\n",
            "93 n_estimators = 300, max_depth =  8, max_features = 0.543790, Score = 0.05492\n",
            "94 n_estimators = 300, max_depth = 47, max_features = 0.884663, Score = 0.01782\n",
            "95 n_estimators = 300, max_depth = 82, max_features = 0.925097, Score = 0.01778\n",
            "96 n_estimators = 300, max_depth =  6, max_features = 0.875690, Score = 0.08749\n",
            "97 n_estimators = 300, max_depth =  7, max_features = 0.121385, Score = 0.53852\n",
            "98 n_estimators = 300, max_depth =  9, max_features = 0.390935, Score = 0.06734\n",
            "99 n_estimators = 300, max_depth = 35, max_features = 0.759931, Score = 0.01771\n",
            "(100, 5)\n"
          ],
          "name": "stdout"
        },
        {
          "output_type": "execute_result",
          "data": {
            "text/html": [
              "<div>\n",
              "<style scoped>\n",
              "    .dataframe tbody tr th:only-of-type {\n",
              "        vertical-align: middle;\n",
              "    }\n",
              "\n",
              "    .dataframe tbody tr th {\n",
              "        vertical-align: top;\n",
              "    }\n",
              "\n",
              "    .dataframe thead th {\n",
              "        text-align: right;\n",
              "    }\n",
              "</style>\n",
              "<table border=\"1\" class=\"dataframe\">\n",
              "  <thead>\n",
              "    <tr style=\"text-align: right;\">\n",
              "      <th></th>\n",
              "      <th>epoch</th>\n",
              "      <th>score</th>\n",
              "      <th>n_estimators</th>\n",
              "      <th>max_depth</th>\n",
              "      <th>max_features</th>\n",
              "    </tr>\n",
              "  </thead>\n",
              "  <tbody>\n",
              "    <tr>\n",
              "      <th>99</th>\n",
              "      <td>99</td>\n",
              "      <td>0.017713</td>\n",
              "      <td>300</td>\n",
              "      <td>35</td>\n",
              "      <td>0.759931</td>\n",
              "    </tr>\n",
              "    <tr>\n",
              "      <th>44</th>\n",
              "      <td>44</td>\n",
              "      <td>0.017715</td>\n",
              "      <td>300</td>\n",
              "      <td>66</td>\n",
              "      <td>0.776084</td>\n",
              "    </tr>\n",
              "    <tr>\n",
              "      <th>92</th>\n",
              "      <td>92</td>\n",
              "      <td>0.017715</td>\n",
              "      <td>300</td>\n",
              "      <td>82</td>\n",
              "      <td>0.793812</td>\n",
              "    </tr>\n",
              "    <tr>\n",
              "      <th>47</th>\n",
              "      <td>47</td>\n",
              "      <td>0.017715</td>\n",
              "      <td>300</td>\n",
              "      <td>86</td>\n",
              "      <td>0.809071</td>\n",
              "    </tr>\n",
              "    <tr>\n",
              "      <th>59</th>\n",
              "      <td>59</td>\n",
              "      <td>0.017715</td>\n",
              "      <td>300</td>\n",
              "      <td>71</td>\n",
              "      <td>0.752013</td>\n",
              "    </tr>\n",
              "    <tr>\n",
              "      <th>65</th>\n",
              "      <td>65</td>\n",
              "      <td>0.017715</td>\n",
              "      <td>300</td>\n",
              "      <td>50</td>\n",
              "      <td>0.804194</td>\n",
              "    </tr>\n",
              "    <tr>\n",
              "      <th>77</th>\n",
              "      <td>77</td>\n",
              "      <td>0.017715</td>\n",
              "      <td>300</td>\n",
              "      <td>37</td>\n",
              "      <td>0.795487</td>\n",
              "    </tr>\n",
              "    <tr>\n",
              "      <th>34</th>\n",
              "      <td>34</td>\n",
              "      <td>0.017778</td>\n",
              "      <td>300</td>\n",
              "      <td>91</td>\n",
              "      <td>0.979464</td>\n",
              "    </tr>\n",
              "    <tr>\n",
              "      <th>61</th>\n",
              "      <td>61</td>\n",
              "      <td>0.017778</td>\n",
              "      <td>300</td>\n",
              "      <td>87</td>\n",
              "      <td>0.921677</td>\n",
              "    </tr>\n",
              "    <tr>\n",
              "      <th>70</th>\n",
              "      <td>70</td>\n",
              "      <td>0.017778</td>\n",
              "      <td>300</td>\n",
              "      <td>57</td>\n",
              "      <td>0.991388</td>\n",
              "    </tr>\n",
              "  </tbody>\n",
              "</table>\n",
              "</div>"
            ],
            "text/plain": [
              "    epoch     score  n_estimators  max_depth  max_features\n",
              "99     99  0.017713           300         35      0.759931\n",
              "44     44  0.017715           300         66      0.776084\n",
              "92     92  0.017715           300         82      0.793812\n",
              "47     47  0.017715           300         86      0.809071\n",
              "59     59  0.017715           300         71      0.752013\n",
              "65     65  0.017715           300         50      0.804194\n",
              "77     77  0.017715           300         37      0.795487\n",
              "34     34  0.017778           300         91      0.979464\n",
              "61     61  0.017778           300         87      0.921677\n",
              "70     70  0.017778           300         57      0.991388"
            ]
          },
          "metadata": {
            "tags": []
          },
          "execution_count": 0
        }
      ]
    },
    {
      "cell_type": "code",
      "metadata": {
        "colab": {
          "background_save": true,
          "base_uri": "https://localhost:8080/"
        },
        "id": "fXFU7Ma2qnjl",
        "outputId": "c5614acc-c2a9-42fd-8ccf-e708b9d96956"
      },
      "source": [
        "best_hyperparameter = coarse_hyperparameters_list.iloc[0]\n",
        "\n",
        "best_max_depth = best_hyperparameter[\"max_depth\"]\n",
        "\n",
        "best_max_features = best_hyperparameter[\"max_features\"]\n",
        "\n",
        "print(f\"max_depth(best) = {best_max_depth}, max_features(best) = {best_max_features:.6f}\")"
      ],
      "execution_count": null,
      "outputs": [
        {
          "output_type": "stream",
          "text": [
            "max_depth(best) = 35.0, max_features(best) = 0.759931\n"
          ],
          "name": "stdout"
        }
      ]
    },
    {
      "cell_type": "code",
      "metadata": {
        "colab": {
          "background_save": true,
          "base_uri": "https://localhost:8080/"
        },
        "id": "jdlTj9W5qqMX",
        "outputId": "6fbc126c-e482-4f49-eb43-6d0a743dd972"
      },
      "source": [
        "best_n_estimators = 3000\n",
        "\n",
        "model = RandomForestRegressor(n_estimators=best_n_estimators,\n",
        "                              max_depth=best_max_depth,\n",
        "                              max_features=best_max_features,\n",
        "                              random_state=37,\n",
        "                              n_jobs=-1)\n",
        "model"
      ],
      "execution_count": null,
      "outputs": [
        {
          "output_type": "execute_result",
          "data": {
            "text/plain": [
              "RandomForestRegressor(bootstrap=True, ccp_alpha=0.0, criterion='mse',\n",
              "                      max_depth=35.0, max_features=0.7599308357720773,\n",
              "                      max_leaf_nodes=None, max_samples=None,\n",
              "                      min_impurity_decrease=0.0, min_impurity_split=None,\n",
              "                      min_samples_leaf=1, min_samples_split=2,\n",
              "                      min_weight_fraction_leaf=0.0, n_estimators=3000,\n",
              "                      n_jobs=-1, oob_score=False, random_state=37, verbose=0,\n",
              "                      warm_start=False)"
            ]
          },
          "metadata": {
            "tags": []
          },
          "execution_count": 0
        }
      ]
    },
    {
      "cell_type": "code",
      "metadata": {
        "id": "eYNyn_Gdqr7P"
      },
      "source": [
        "model.fit(X_train, y_train)"
      ],
      "execution_count": null,
      "outputs": []
    },
    {
      "cell_type": "code",
      "metadata": {
        "id": "AnEsGVkWqtZU",
        "colab": {
          "base_uri": "https://localhost:8080/"
        },
        "outputId": "c7a3e3c7-526d-4e33-cd84-1aec22bda413"
      },
      "source": [
        "log_predictions = model.predict(X_test)\n",
        "\n",
        "print(log_predictions.shape)\n",
        "\n",
        "log_predictions"
      ],
      "execution_count": 67,
      "outputs": [
        {
          "output_type": "stream",
          "text": [
            "(6493,)\n"
          ],
          "name": "stdout"
        },
        {
          "output_type": "execute_result",
          "data": {
            "text/plain": [
              "array([2.4420285 , 1.78705896, 1.42330388, ..., 4.92328846, 4.69707043,\n",
              "       4.10799606])"
            ]
          },
          "metadata": {
            "tags": []
          },
          "execution_count": 67
        }
      ]
    },
    {
      "cell_type": "code",
      "metadata": {
        "id": "s_XBn5bDqyXX",
        "colab": {
          "base_uri": "https://localhost:8080/"
        },
        "outputId": "bfb7cde2-7a6e-4ddb-c1bd-26c0ca81565c"
      },
      "source": [
        "predictions = np.exp(log_predictions) - 1\n",
        "\n",
        "\n",
        "print(predictions.shape)\n",
        "\n",
        "predictions"
      ],
      "execution_count": 68,
      "outputs": [
        {
          "output_type": "stream",
          "text": [
            "(6493,)\n"
          ],
          "name": "stdout"
        },
        {
          "output_type": "execute_result",
          "data": {
            "text/plain": [
              "array([ 10.49633738,   4.9718631 ,   3.1508116 , ..., 136.45388252,\n",
              "       108.62554544,  59.8247063 ])"
            ]
          },
          "metadata": {
            "tags": []
          },
          "execution_count": 68
        }
      ]
    }
  ]
}